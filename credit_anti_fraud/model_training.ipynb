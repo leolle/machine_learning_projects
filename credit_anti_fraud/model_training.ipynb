{
 "cells": [
  {
   "cell_type": "code",
   "execution_count": 1,
   "metadata": {
    "collapsed": true
   },
   "outputs": [],
   "source": [
    "import numpy as np\n",
    "import pandas as pd\n",
    "import matplotlib as mpl\n",
    "import matplotlib.pyplot as plt\n",
    "\n",
    "import sklearn\n",
    "from sklearn.linear_model import LogisticRegression\n",
    "from sklearn.model_selection import train_test_split, GridSearchCV\n",
    "from sklearn.ensemble import GradientBoostingClassifier,RandomForestClassifier\n",
    "from sklearn.metrics import f1_score\n",
    "from sklearn.decomposition import PCA"
   ]
  },
  {
   "cell_type": "code",
   "execution_count": 2,
   "metadata": {
    "collapsed": true
   },
   "outputs": [],
   "source": [
    "# 设置字符集，防止图片中的中文乱码\n",
    "mpl.rcParams['font.sans-serif']=[u'simHei']\n",
    "mpl.rcParams['axes.unicode_minus']=False"
   ]
  },
  {
   "cell_type": "code",
   "execution_count": 3,
   "metadata": {
    "collapsed": true
   },
   "outputs": [],
   "source": [
    "# 设置jupyter图片显示方式\n",
    "%matplotlib inline"
   ]
  },
  {
   "cell_type": "markdown",
   "metadata": {},
   "source": [
    "### 特征之后的数据读取"
   ]
  },
  {
   "cell_type": "code",
   "execution_count": 5,
   "metadata": {
    "collapsed": false
   },
   "outputs": [
    {
     "data": {
      "text/html": [
       "<div>\n",
       "<table border=\"1\" class=\"dataframe\">\n",
       "  <thead>\n",
       "    <tr style=\"text-align: right;\">\n",
       "      <th></th>\n",
       "      <th>loan_amnt</th>\n",
       "      <th>int_rate</th>\n",
       "      <th>emp_length</th>\n",
       "      <th>annual_inc</th>\n",
       "      <th>loan_status</th>\n",
       "      <th>dti</th>\n",
       "      <th>delinq_2yrs</th>\n",
       "      <th>inq_last_6mths</th>\n",
       "      <th>mths_since_last_delinq</th>\n",
       "      <th>open_acc</th>\n",
       "      <th>...</th>\n",
       "      <th>purpose_renewable_energy</th>\n",
       "      <th>purpose_small_business</th>\n",
       "      <th>purpose_vacation</th>\n",
       "      <th>purpose_wedding</th>\n",
       "      <th>initial_list_status_f</th>\n",
       "      <th>application_type_Individual</th>\n",
       "      <th>hardship_flag_N</th>\n",
       "      <th>disbursement_method_Cash</th>\n",
       "      <th>debt_settlement_flag_N</th>\n",
       "      <th>debt_settlement_flag_Y</th>\n",
       "    </tr>\n",
       "  </thead>\n",
       "  <tbody>\n",
       "    <tr>\n",
       "      <th>0</th>\n",
       "      <td>5000.0</td>\n",
       "      <td>10.65</td>\n",
       "      <td>10</td>\n",
       "      <td>24000.0</td>\n",
       "      <td>1.0</td>\n",
       "      <td>27.65</td>\n",
       "      <td>0.0</td>\n",
       "      <td>1.0</td>\n",
       "      <td>0.0</td>\n",
       "      <td>3.0</td>\n",
       "      <td>...</td>\n",
       "      <td>0</td>\n",
       "      <td>0</td>\n",
       "      <td>0</td>\n",
       "      <td>0</td>\n",
       "      <td>1</td>\n",
       "      <td>1</td>\n",
       "      <td>1</td>\n",
       "      <td>1</td>\n",
       "      <td>1</td>\n",
       "      <td>0</td>\n",
       "    </tr>\n",
       "    <tr>\n",
       "      <th>1</th>\n",
       "      <td>2500.0</td>\n",
       "      <td>15.27</td>\n",
       "      <td>1</td>\n",
       "      <td>30000.0</td>\n",
       "      <td>0.0</td>\n",
       "      <td>1.00</td>\n",
       "      <td>0.0</td>\n",
       "      <td>5.0</td>\n",
       "      <td>0.0</td>\n",
       "      <td>3.0</td>\n",
       "      <td>...</td>\n",
       "      <td>0</td>\n",
       "      <td>0</td>\n",
       "      <td>0</td>\n",
       "      <td>0</td>\n",
       "      <td>1</td>\n",
       "      <td>1</td>\n",
       "      <td>1</td>\n",
       "      <td>1</td>\n",
       "      <td>1</td>\n",
       "      <td>0</td>\n",
       "    </tr>\n",
       "    <tr>\n",
       "      <th>2</th>\n",
       "      <td>2400.0</td>\n",
       "      <td>15.96</td>\n",
       "      <td>10</td>\n",
       "      <td>12252.0</td>\n",
       "      <td>1.0</td>\n",
       "      <td>8.72</td>\n",
       "      <td>0.0</td>\n",
       "      <td>2.0</td>\n",
       "      <td>0.0</td>\n",
       "      <td>2.0</td>\n",
       "      <td>...</td>\n",
       "      <td>0</td>\n",
       "      <td>1</td>\n",
       "      <td>0</td>\n",
       "      <td>0</td>\n",
       "      <td>1</td>\n",
       "      <td>1</td>\n",
       "      <td>1</td>\n",
       "      <td>1</td>\n",
       "      <td>1</td>\n",
       "      <td>0</td>\n",
       "    </tr>\n",
       "  </tbody>\n",
       "</table>\n",
       "<p>3 rows × 52 columns</p>\n",
       "</div>"
      ],
      "text/plain": [
       "   loan_amnt  int_rate  emp_length  annual_inc  loan_status    dti  \\\n",
       "0     5000.0     10.65          10     24000.0          1.0  27.65   \n",
       "1     2500.0     15.27           1     30000.0          0.0   1.00   \n",
       "2     2400.0     15.96          10     12252.0          1.0   8.72   \n",
       "\n",
       "   delinq_2yrs  inq_last_6mths  mths_since_last_delinq  open_acc  \\\n",
       "0          0.0             1.0                     0.0       3.0   \n",
       "1          0.0             5.0                     0.0       3.0   \n",
       "2          0.0             2.0                     0.0       2.0   \n",
       "\n",
       "            ...            purpose_renewable_energy  purpose_small_business  \\\n",
       "0           ...                                   0                       0   \n",
       "1           ...                                   0                       0   \n",
       "2           ...                                   0                       1   \n",
       "\n",
       "   purpose_vacation  purpose_wedding  initial_list_status_f  \\\n",
       "0                 0                0                      1   \n",
       "1                 0                0                      1   \n",
       "2                 0                0                      1   \n",
       "\n",
       "   application_type_Individual  hardship_flag_N  disbursement_method_Cash  \\\n",
       "0                            1                1                         1   \n",
       "1                            1                1                         1   \n",
       "2                            1                1                         1   \n",
       "\n",
       "   debt_settlement_flag_N  debt_settlement_flag_Y  \n",
       "0                       1                       0  \n",
       "1                       1                       0  \n",
       "2                       1                       0  \n",
       "\n",
       "[3 rows x 52 columns]"
      ]
     },
     "execution_count": 5,
     "metadata": {},
     "output_type": "execute_result"
    }
   ],
   "source": [
    "data = pd.read_csv(\"./data/features01.csv\")\n",
    "data.head(3)"
   ]
  },
  {
   "cell_type": "code",
   "execution_count": 6,
   "metadata": {
    "collapsed": false,
    "scrolled": true
   },
   "outputs": [
    {
     "name": "stdout",
     "output_type": "stream",
     "text": [
      "<class 'pandas.core.frame.DataFrame'>\n",
      "RangeIndex: 39786 entries, 0 to 39785\n",
      "Data columns (total 52 columns):\n",
      "loan_amnt                              39786 non-null float64\n",
      "int_rate                               39786 non-null float64\n",
      "emp_length                             39786 non-null int64\n",
      "annual_inc                             39786 non-null float64\n",
      "loan_status                            39786 non-null float64\n",
      "dti                                    39786 non-null float64\n",
      "delinq_2yrs                            39786 non-null float64\n",
      "inq_last_6mths                         39786 non-null float64\n",
      "mths_since_last_delinq                 39786 non-null float64\n",
      "open_acc                               39786 non-null float64\n",
      "pub_rec                                39786 non-null float64\n",
      "revol_bal                              39786 non-null float64\n",
      "revol_util                             39786 non-null float64\n",
      "total_acc                              39786 non-null float64\n",
      "collections_12_mths_ex_med             39786 non-null float64\n",
      "acc_now_delinq                         39786 non-null float64\n",
      "chargeoff_within_12_mths               39786 non-null float64\n",
      "delinq_amnt                            39786 non-null float64\n",
      "pub_rec_bankruptcies                   39786 non-null float64\n",
      "tax_liens                              39786 non-null float64\n",
      "settlement_term                        39786 non-null float64\n",
      "term_ 36 months                        39786 non-null int64\n",
      "term_ 60 months                        39786 non-null int64\n",
      "home_ownership_MORTGAGE                39786 non-null int64\n",
      "home_ownership_NONE                    39786 non-null int64\n",
      "home_ownership_OTHER                   39786 non-null int64\n",
      "home_ownership_OWN                     39786 non-null int64\n",
      "home_ownership_RENT                    39786 non-null int64\n",
      "verification_status_Not Verified       39786 non-null int64\n",
      "verification_status_Source Verified    39786 non-null int64\n",
      "verification_status_Verified           39786 non-null int64\n",
      "pymnt_plan_n                           39786 non-null int64\n",
      "purpose_car                            39786 non-null int64\n",
      "purpose_credit_card                    39786 non-null int64\n",
      "purpose_debt_consolidation             39786 non-null int64\n",
      "purpose_educational                    39786 non-null int64\n",
      "purpose_home_improvement               39786 non-null int64\n",
      "purpose_house                          39786 non-null int64\n",
      "purpose_major_purchase                 39786 non-null int64\n",
      "purpose_medical                        39786 non-null int64\n",
      "purpose_moving                         39786 non-null int64\n",
      "purpose_other                          39786 non-null int64\n",
      "purpose_renewable_energy               39786 non-null int64\n",
      "purpose_small_business                 39786 non-null int64\n",
      "purpose_vacation                       39786 non-null int64\n",
      "purpose_wedding                        39786 non-null int64\n",
      "initial_list_status_f                  39786 non-null int64\n",
      "application_type_Individual            39786 non-null int64\n",
      "hardship_flag_N                        39786 non-null int64\n",
      "disbursement_method_Cash               39786 non-null int64\n",
      "debt_settlement_flag_N                 39786 non-null int64\n",
      "debt_settlement_flag_Y                 39786 non-null int64\n",
      "dtypes: float64(20), int64(32)\n",
      "memory usage: 15.8 MB\n"
     ]
    }
   ],
   "source": [
    "data.info()"
   ]
  },
  {
   "cell_type": "markdown",
   "metadata": {},
   "source": [
    "### 切分样本"
   ]
  },
  {
   "cell_type": "code",
   "execution_count": 7,
   "metadata": {
    "collapsed": false
   },
   "outputs": [
    {
     "name": "stdout",
     "output_type": "stream",
     "text": [
      "样本数量为:39786, 特征属性数量为:51\n"
     ]
    }
   ],
   "source": [
    "# 获取X和Y\n",
    "Y = data['loan_status']\n",
    "X = data.drop(['loan_status'], 1, inplace=False)\n",
    "print(\"样本数量为:%d, 特征属性数量为:%d\" % X.shape)"
   ]
  },
  {
   "cell_type": "code",
   "execution_count": 8,
   "metadata": {
    "collapsed": false
   },
   "outputs": [
    {
     "name": "stdout",
     "output_type": "stream",
     "text": [
      "训练集合数据量:27850,51\n",
      "测试集合数据量:11936,51\n"
     ]
    }
   ],
   "source": [
    "# 样本的分割\n",
    "x_train, x_test, y_train, y_test = train_test_split(X, Y, test_size=0.3, random_state=0)\n",
    "print(\"训练集合数据量:%d,%d\" % x_train.shape)\n",
    "print(\"测试集合数据量:%d,%d\" % x_test.shape)"
   ]
  },
  {
   "cell_type": "code",
   "execution_count": 9,
   "metadata": {
    "collapsed": false
   },
   "outputs": [
    {
     "name": "stdout",
     "output_type": "stream",
     "text": [
      "1.0    23959\n",
      "0.0     3891\n",
      "Name: loan_status, dtype: int64\n",
      "1.0    10157\n",
      "0.0     1779\n",
      "Name: loan_status, dtype: int64\n"
     ]
    }
   ],
   "source": [
    "print(y_train.value_counts())\n",
    "print(y_test.value_counts())"
   ]
  },
  {
   "cell_type": "code",
   "execution_count": 10,
   "metadata": {
    "collapsed": false
   },
   "outputs": [
    {
     "name": "stdout",
     "output_type": "stream",
     "text": [
      "{'penalty': 'l1', 'C': 0.1, 'max_iter': 100, 'fit_intercept': True}\n"
     ]
    }
   ],
   "source": [
    "# 首先做一个最优参数的构造\n",
    "parameters = {\n",
    "    \"penalty\": ['l1', 'l2'],\n",
    "    \"C\": [0.01, 0.1, 1],\n",
    "    \"fit_intercept\": [True, False],\n",
    "    \"max_iter\": [100, 150, 200]\n",
    "}\n",
    "clf = GridSearchCV(LogisticRegression(random_state=0), param_grid=parameters, cv=3)\n",
    "clf.fit(x_train, y_train)\n",
    "\n",
    "# 得到最优参数\n",
    "# print(\"最优参数:\",end=\"\")\n",
    "print(clf.best_params_)"
   ]
  },
  {
   "cell_type": "markdown",
   "metadata": {},
   "source": [
    "### 使用逻辑回归来分析数据"
   ]
  },
  {
   "cell_type": "code",
   "execution_count": 11,
   "metadata": {
    "collapsed": false
   },
   "outputs": [
    {
     "name": "stdout",
     "output_type": "stream",
     "text": [
      "训练集合上的f1指标:0.9258\n",
      "测试集合上的f1指标:0.9209\n"
     ]
    }
   ],
   "source": [
    "\n",
    "lr = LogisticRegression(C = 0.1, fit_intercept=True, max_iter=100, penalty='l1', random_state=0)\n",
    "lr.fit(x_train, y_train)\n",
    "\n",
    "train_predict = lr.predict(x_train)\n",
    "print(\"训练集合上的f1指标:%.4f\" % f1_score(y_train, train_predict))\n",
    "test_predict = lr.predict(x_test)\n",
    "print(\"测试集合上的f1指标:%.4f\" % f1_score(y_test, test_predict))"
   ]
  },
  {
   "cell_type": "markdown",
   "metadata": {},
   "source": [
    "#### 使用逻辑回归来分析数据, 并选择给类别添加权重"
   ]
  },
  {
   "cell_type": "code",
   "execution_count": 12,
   "metadata": {
    "collapsed": false
   },
   "outputs": [
    {
     "name": "stdout",
     "output_type": "stream",
     "text": [
      "训练集合上的f1指标:0.8253\n",
      "测试集合上的f1指标:0.8221\n"
     ]
    }
   ],
   "source": [
    "\n",
    "weight = {\n",
    "    0: 5, # 在模型训练和测试的过程中，类别0的重要性\n",
    "    1: 1 # 在模型训练和测试的过程中，类别1的重要性\n",
    "}\n",
    "lr = LogisticRegression(C = 0.1, \n",
    "                        fit_intercept=True, \n",
    "                        max_iter=100, \n",
    "                        penalty='l1', \n",
    "                        random_state=0,\n",
    "                        class_weight=weight\n",
    "                       )\n",
    "lr.fit(x_train, y_train)\n",
    "\n",
    "train_predict = lr.predict(x_train)\n",
    "print(\"训练集合上的f1指标:%.4f\" % f1_score(y_train, train_predict))\n",
    "test_predict = lr.predict(x_test)\n",
    "print(\"测试集合上的f1指标:%.4f\" % f1_score(y_test, test_predict))"
   ]
  },
  {
   "cell_type": "markdown",
   "metadata": {},
   "source": [
    "### 使用随机森林来分析数据"
   ]
  },
  {
   "cell_type": "code",
   "execution_count": 13,
   "metadata": {
    "collapsed": false
   },
   "outputs": [
    {
     "name": "stdout",
     "output_type": "stream",
     "text": [
      "训练集合上的f1指标:0.9957\n",
      "测试集合上的f1指标:0.9103\n"
     ]
    }
   ],
   "source": [
    "\n",
    "forest = RandomForestClassifier(random_state=0)\n",
    "forest.fit(x_train, y_train)\n",
    "\n",
    "train_predict = forest.predict(x_train)\n",
    "print(\"训练集合上的f1指标:%.4f\" % f1_score(y_train, train_predict))\n",
    "test_predict = forest.predict(x_test)\n",
    "print(\"测试集合上的f1指标:%.4f\" % f1_score(y_test, test_predict))"
   ]
  },
  {
   "cell_type": "markdown",
   "metadata": {},
   "source": [
    "#### 基于随机森林获取影响放贷的二十大因素"
   ]
  },
  {
   "cell_type": "code",
   "execution_count": 17,
   "metadata": {
    "collapsed": false
   },
   "outputs": [
    {
     "data": {
      "image/png": "[encoded data removed]",
      "text/plain": [
       "<matplotlib.figure.Figure at 0x7f556b6e0310>"
      ]
     },
     "metadata": {},
     "output_type": "display_data"
    }
   ],
   "source": [
    "\n",
    "feature_importances = forest.feature_importances_\n",
    "feature_importances = 100.0 * (feature_importances / feature_importances.max())\n",
    "\n",
    "indices = np.argsort(feature_importances)[-20:]\n",
    "plt.barh(np.arange(20), feature_importances[indices], color='dodgerblue', alpha=0.4)\n",
    "plt.yticks(np.arange(20 + 0.25), np.array(X.columns)[indices])\n",
    "plt.xlabel(\"feature importance %\")\n",
    "plt.title(\"top 20 features from RF\")\n",
    "plt.show()\n"
   ]
  },
  {
   "cell_type": "markdown",
   "metadata": {},
   "source": [
    "### GBDT的预测效果"
   ]
  },
  {
   "cell_type": "code",
   "execution_count": 18,
   "metadata": {
    "collapsed": false
   },
   "outputs": [
    {
     "name": "stdout",
     "output_type": "stream",
     "text": [
      "训练集合上的f1指标:0.9287\n",
      "测试集合上的f1指标:0.9198\n"
     ]
    }
   ],
   "source": [
    "\n",
    "gbdt = GradientBoostingClassifier(min_samples_split=50, n_estimators=300, learning_rate=0.1, random_state=0)\n",
    "gbdt.fit(x_train, y_train)\n",
    "\n",
    "train_predict = gbdt.predict(x_train)\n",
    "print(\"训练集合上的f1指标:%.4f\" % f1_score(y_train, train_predict))\n",
    "test_predict = gbdt.predict(x_test)\n",
    "print(\"测试集合上的f1指标:%.4f\" % f1_score(y_test, test_predict))"
   ]
  },
  {
   "cell_type": "markdown",
   "metadata": {},
   "source": [
    "#### 基于GBDT获取影响放贷的二十大因素"
   ]
  },
  {
   "cell_type": "code",
   "execution_count": 19,
   "metadata": {
    "collapsed": false
   },
   "outputs": [
    {
     "data": {
      "image/png": "[encoded data removed]",
      "text/plain": [
       "<matplotlib.figure.Figure at 0x7f5568d9ebd0>"
      ]
     },
     "metadata": {},
     "output_type": "display_data"
    }
   ],
   "source": [
    "\n",
    "feature_importances = gbdt.feature_importances_\n",
    "feature_importances = 100.0 * (feature_importances / feature_importances.max())\n",
    "\n",
    "indices = np.argsort(feature_importances)[-20:]\n",
    "plt.barh(np.arange(20), feature_importances[indices], color='dodgerblue', alpha=0.4)\n",
    "plt.yticks(np.arange(20 + 0.25), np.array(X.columns)[indices])\n",
    "plt.xlabel(\"feature importance %\")\n",
    "plt.title(\"top 20 features from GBDT\")\n",
    "plt.show()\n"
   ]
  },
  {
   "cell_type": "code",
   "execution_count": 20,
   "metadata": {
    "collapsed": false,
    "scrolled": true
   },
   "outputs": [
    {
     "name": "stdout",
     "output_type": "stream",
     "text": [
      "训练集合上的f1指标:0.9247\n",
      "测试集合上的f1指标:0.9196\n"
     ]
    }
   ],
   "source": [
    "# 在实际工作中，如果发现模型的效果不如意，那么可能需要考虑特征选择和降维\n",
    "# 使用逻辑回归来分析数据 + 特征选择 + 降维\n",
    "# 特征选择：从所有特征属性中抽取出来影响目标属性(target)效果最大的特征属性作为下一步的特征属性列表\\\n",
    "# 很多特征选择工程都是选择方差比较大特征属性\n",
    "# 也可以使用随机森林、GBDT、决策树来进行特征选择\n",
    "\n",
    "# 降维：压缩样本的维度空间，直白来讲，就是讲DataFrame中原本的多个列合并成为一列\n",
    "\n",
    "# 1. 特征选择\n",
    "feature_importances = gbdt.feature_importances_\n",
    "indices = np.argsort(feature_importances)[-10:]\n",
    "top10_features = np.array(X.columns)[indices]\n",
    "\n",
    "# 2. 提取影响最大的十个特征属性\n",
    "x_train2 = x_train[top10_features]\n",
    "x_test2 = x_test[top10_features]\n",
    "\n",
    "# 3. 降维处理\n",
    "x_train3 = x_train.drop(top10_features, 1, inplace=False)\n",
    "x_test3 = x_test.drop(top10_features, 1, inplace=False)\n",
    "pca = PCA(n_components=10)\n",
    "pca.fit(x_train3)\n",
    "x_test3 = pca.transform(x_test3)\n",
    "x_train3 = pca.transform(x_train3)\n",
    "\n",
    "# 4. 两个DataFrame合并\n",
    "x_train2 = np.hstack([x_train2, x_train3])\n",
    "x_test2 = np.hstack([x_test2, x_test3])\n",
    "\n",
    "\n",
    "lr = LogisticRegression(C = 0.1, fit_intercept=True, max_iter=100, penalty='l1', random_state=0)\n",
    "lr.fit(x_train2, y_train)\n",
    "\n",
    "train_predict = lr.predict(x_train2)\n",
    "print(\"训练集合上的f1指标:%.4f\" % f1_score(y_train, train_predict))\n",
    "test_predict = lr.predict(x_test2)\n",
    "print(\"测试集合上的f1指标:%.4f\" % f1_score(y_test, test_predict))"
   ]
  },
  {
   "cell_type": "code",
   "execution_count": null,
   "metadata": {
    "collapsed": true
   },
   "outputs": [],
   "source": []
  }
 ],
 "metadata": {
  "kernelspec": {
   "display_name": "data_analysis",
   "language": "python",
   "name": "data_analysis"
  },
  "language_info": {
   "codemirror_mode": {
    "name": "ipython",
    "version": 2
   },
   "file_extension": ".py",
   "mimetype": "text/x-python",
   "name": "python",
   "nbconvert_exporter": "python",
   "pygments_lexer": "ipython2",
   "version": "2.7.6"
  }
 },
 "nbformat": 4,
 "nbformat_minor": 2
}
